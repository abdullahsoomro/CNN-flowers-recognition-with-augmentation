{
  "nbformat": 4,
  "nbformat_minor": 0,
  "metadata": {
    "colab": {
      "name": "Abdullah.ipynb",
      "provenance": [],
      "collapsed_sections": []
    },
    "kernelspec": {
      "display_name": "Python 3",
      "language": "python",
      "name": "python3"
    },
    "language_info": {
      "codemirror_mode": {
        "name": "ipython",
        "version": 3
      },
      "file_extension": ".py",
      "mimetype": "text/x-python",
      "name": "python",
      "nbconvert_exporter": "python",
      "pygments_lexer": "ipython3",
      "version": "3.5.2"
    }
  },
  "cells": [
    {
      "cell_type": "code",
      "metadata": {
        "id": "dENswLcT0cXD",
        "outputId": "d2903208-810c-46b0-ba8d-84b357120603"
      },
      "source": [
        "import os\n",
        "import numpy as np\n",
        "from keras.preprocessing.text import Tokenizer\n",
        "from keras.preprocessing.sequence import pad_sequences\n",
        "from keras.models import Sequential\n",
        "from keras.layers import Embedding, Flatten, Dense\n",
        "from keras.utils.np_utils import to_categorical\n",
        "import math\n",
        "import shutil"
      ],
      "execution_count": null,
      "outputs": [
        {
          "output_type": "stream",
          "text": [
            "Using TensorFlow backend.\n"
          ],
          "name": "stderr"
        }
      ]
    },
    {
      "cell_type": "code",
      "metadata": {
        "id": "sjbVr0CV0cXJ"
      },
      "source": [
        "dataset_dir = 'flowers-recognition/flowers/'"
      ],
      "execution_count": null,
      "outputs": []
    },
    {
      "cell_type": "code",
      "metadata": {
        "id": "2YZyRxg20cXL",
        "outputId": "51c70487-35d6-478c-a387-128b543d3590"
      },
      "source": [
        "number_of_elem = 500\n",
        "dataset_to_use = []\n",
        "count_of_each_class =[]\n",
        "dataset = os.listdir(dataset_dir)\n",
        "for i in dataset:\n",
        "    dataset_sub = os.path.join(dataset_dir,i)\n",
        "    dataset_items = os.listdir(dataset_sub)\n",
        "    count = np.count_nonzero(dataset_items)\n",
        "    \n",
        "    if not (count < number_of_elem):\n",
        "        print(i)\n",
        "        dataset_to_use.append(i)\n",
        "        count_of_each_class.append(count)\n",
        "        \n",
        "        \n",
        "print(np.count_nonzero(dataset_to_use))"
      ],
      "execution_count": null,
      "outputs": [
        {
          "output_type": "stream",
          "text": [
            "daisy\n",
            "dandelion\n",
            "rose\n",
            "sunflower\n",
            "tulip\n",
            "5\n"
          ],
          "name": "stdout"
        }
      ]
    },
    {
      "cell_type": "code",
      "metadata": {
        "id": "8gzpBy070cXO"
      },
      "source": [
        "new_dataset = 'flowers-recognition/smaller-dataset'\n",
        "if not os.path.exists(new_dataset):\n",
        "    os.mkdir(new_dataset)\n",
        "test = os.path.join(new_dataset, 'test')\n",
        "train = os.path.join(new_dataset, 'train')\n",
        "val = os.path.join(new_dataset, 'validation')\n",
        "if not os.path.exists(test):\n",
        "    os.mkdir(test)\n",
        "if not os.path.exists(train):\n",
        "    os.mkdir(train)\n",
        "if not os.path.exists(val):\n",
        "    os.mkdir(val)"
      ],
      "execution_count": null,
      "outputs": []
    },
    {
      "cell_type": "code",
      "metadata": {
        "id": "4rj_Fl2o0cXP",
        "outputId": "7c75c923-4bf0-4ac6-8917-50e394bcfdb9"
      },
      "source": [
        "minimum = min(count_of_each_class)\n",
        "train70 = 500\n",
        "val20 = 100\n",
        "test10 = 100\n",
        "print(train70, val20, test10)\n",
        "\n",
        "\n",
        "\n",
        "for i in dataset_to_use:\n",
        "    \n",
        "    dataset_complt = os.path.join(dataset_dir,i)\n",
        "    items= os.listdir(dataset_complt)\n",
        "    count = np.count_nonzero(items)\n",
        "    train_i = os.path.join(train, i)\n",
        "    test_i = os.path.join(test,i)\n",
        "    val_i = os.path.join(val, i)\n",
        "    \n",
        "    if not os.path.exists(train_i):\n",
        "        os.mkdir(train_i)\n",
        "    if not os.path.exists(val_i):\n",
        "        os.mkdir(val_i)\n",
        "    if not os.path.exists(test_i):\n",
        "        os.mkdir(test_i)\n",
        "        \n",
        "    x=0\n",
        "    print(\"Runing for \", i)\n",
        "    for j in items:\n",
        "        src = os.path.join(dataset_complt,j)\n",
        "        if x < (train70):\n",
        "            dst = os.path.join(train_i,j)\n",
        "            #print(dst)\n",
        "            shutil.copyfile(src,dst)\n",
        "            x+=1\n",
        "        elif x < (train70+val20):\n",
        "            dst = os.path.join(val_i,j)\n",
        "            #print(dst)\n",
        "            shutil.copyfile(src,dst)\n",
        "            x+=1\n",
        "        elif x < (train70+val20+test10):\n",
        "            dst = os.path.join(test_i,j)\n",
        "            #print(dst)\n",
        "            shutil.copyfile(src,dst)\n",
        "            x+=1\n",
        "\n",
        "        \n",
        "        \n",
        "num_classes = (np.count_nonzero(count_of_each_class))"
      ],
      "execution_count": null,
      "outputs": [
        {
          "output_type": "stream",
          "text": [
            "500 100 100\n",
            "Runing for  daisy\n",
            "Runing for  dandelion\n",
            "Runing for  rose\n",
            "Runing for  sunflower\n",
            "Runing for  tulip\n"
          ],
          "name": "stdout"
        }
      ]
    },
    {
      "cell_type": "code",
      "metadata": {
        "id": "gRM5BgUb0cXS",
        "outputId": "8207fba1-789c-4ea7-e937-6d7fd458a86d"
      },
      "source": [
        "dataset_to_use"
      ],
      "execution_count": null,
      "outputs": [
        {
          "output_type": "execute_result",
          "data": {
            "text/plain": [
              "['daisy', 'dandelion', 'rose', 'sunflower', 'tulip']"
            ]
          },
          "metadata": {
            "tags": []
          },
          "execution_count": 9
        }
      ]
    },
    {
      "cell_type": "code",
      "metadata": {
        "id": "xTO9rIHy0cXU",
        "outputId": "f2f02d4e-4666-4c25-bece-15032452a02b"
      },
      "source": [
        "from keras.preprocessing.image import ImageDataGenerator\n",
        "\n",
        "train_datagen = ImageDataGenerator(rescale=1./255,)\n",
        "val_datagen = ImageDataGenerator(rescale=1./255,)\n",
        "\n",
        "\n",
        "\n",
        "train_generator = train_datagen.flow_from_directory(train, \n",
        "                                                    target_size=(300, 300),\n",
        "                                                    batch_size=30,\n",
        "                                                    class_mode='categorical')\n",
        "\n",
        "validation_generator = val_datagen.flow_from_directory(\n",
        "val,\n",
        "target_size=(300, 300),\n",
        "batch_size=30,    \n",
        "class_mode='categorical')\n"
      ],
      "execution_count": null,
      "outputs": [
        {
          "output_type": "stream",
          "text": [
            "Found 2500 images belonging to 5 classes.\n",
            "Found 500 images belonging to 5 classes.\n"
          ],
          "name": "stdout"
        }
      ]
    },
    {
      "cell_type": "code",
      "metadata": {
        "id": "J19zBCph0cXY",
        "outputId": "b1ccea80-1518-45b8-9ccb-ccc8127986fc"
      },
      "source": [
        "from keras import layers\n",
        "from keras import models\n",
        "\n",
        "model = models.Sequential()\n",
        "model.add(layers.Conv2D(32, (3, 3), activation='relu',\n",
        "input_shape=(300, 300, 3)))\n",
        "model.add(layers.MaxPooling2D((2, 2)))\n",
        "model.add(layers.Conv2D(64, (3, 3), activation='relu'))\n",
        "model.add(layers.MaxPooling2D((2, 2)))\n",
        "model.add(layers.Conv2D(128, (3, 3), activation='relu'))\n",
        "model.add(layers.MaxPooling2D((2, 2)))\n",
        "model.add(layers.Conv2D(128, (3, 3), activation='relu'))\n",
        "model.add(layers.MaxPooling2D((2, 2)))\n",
        "model.add(layers.Flatten())\n",
        "model.add(layers.Dense(512, activation='relu'))\n",
        "model.add(layers.Dense(num_classes, activation='softmax'))\n"
      ],
      "execution_count": null,
      "outputs": [
        {
          "output_type": "stream",
          "text": [
            "WARNING: Logging before flag parsing goes to stderr.\n",
            "W1216 06:35:10.341872  9664 deprecation_wrapper.py:119] From C:\\Users\\Dr Sher\\Anaconda3\\lib\\site-packages\\keras\\backend\\tensorflow_backend.py:66: The name tf.get_default_graph is deprecated. Please use tf.compat.v1.get_default_graph instead.\n",
            "\n",
            "W1216 06:35:10.393562  9664 deprecation_wrapper.py:119] From C:\\Users\\Dr Sher\\Anaconda3\\lib\\site-packages\\keras\\backend\\tensorflow_backend.py:541: The name tf.placeholder is deprecated. Please use tf.compat.v1.placeholder instead.\n",
            "\n",
            "W1216 06:35:10.405542  9664 deprecation_wrapper.py:119] From C:\\Users\\Dr Sher\\Anaconda3\\lib\\site-packages\\keras\\backend\\tensorflow_backend.py:4432: The name tf.random_uniform is deprecated. Please use tf.random.uniform instead.\n",
            "\n",
            "W1216 06:35:10.441534  9664 deprecation_wrapper.py:119] From C:\\Users\\Dr Sher\\Anaconda3\\lib\\site-packages\\keras\\backend\\tensorflow_backend.py:4267: The name tf.nn.max_pool is deprecated. Please use tf.nn.max_pool2d instead.\n",
            "\n"
          ],
          "name": "stderr"
        }
      ]
    },
    {
      "cell_type": "code",
      "metadata": {
        "id": "GBCh4QlV0cXZ",
        "outputId": "27e8dc8d-e946-4a9f-847b-9a5f8fa576bd"
      },
      "source": [
        "model.compile(optimizer='rmsprop',\n",
        "loss='categorical_crossentropy',\n",
        "metrics=['accuracy'])\n",
        "\n",
        "model.summary()"
      ],
      "execution_count": null,
      "outputs": [
        {
          "output_type": "stream",
          "text": [
            "W1216 06:35:28.258841  9664 deprecation_wrapper.py:119] From C:\\Users\\Dr Sher\\Anaconda3\\lib\\site-packages\\keras\\optimizers.py:793: The name tf.train.Optimizer is deprecated. Please use tf.compat.v1.train.Optimizer instead.\n",
            "\n",
            "W1216 06:35:28.286834  9664 deprecation_wrapper.py:119] From C:\\Users\\Dr Sher\\Anaconda3\\lib\\site-packages\\keras\\backend\\tensorflow_backend.py:3576: The name tf.log is deprecated. Please use tf.math.log instead.\n",
            "\n"
          ],
          "name": "stderr"
        },
        {
          "output_type": "stream",
          "text": [
            "Model: \"sequential_1\"\n",
            "_________________________________________________________________\n",
            "Layer (type)                 Output Shape              Param #   \n",
            "=================================================================\n",
            "conv2d_1 (Conv2D)            (None, 298, 298, 32)      896       \n",
            "_________________________________________________________________\n",
            "max_pooling2d_1 (MaxPooling2 (None, 149, 149, 32)      0         \n",
            "_________________________________________________________________\n",
            "conv2d_2 (Conv2D)            (None, 147, 147, 64)      18496     \n",
            "_________________________________________________________________\n",
            "max_pooling2d_2 (MaxPooling2 (None, 73, 73, 64)        0         \n",
            "_________________________________________________________________\n",
            "conv2d_3 (Conv2D)            (None, 71, 71, 128)       73856     \n",
            "_________________________________________________________________\n",
            "max_pooling2d_3 (MaxPooling2 (None, 35, 35, 128)       0         \n",
            "_________________________________________________________________\n",
            "conv2d_4 (Conv2D)            (None, 33, 33, 128)       147584    \n",
            "_________________________________________________________________\n",
            "max_pooling2d_4 (MaxPooling2 (None, 16, 16, 128)       0         \n",
            "_________________________________________________________________\n",
            "flatten_1 (Flatten)          (None, 32768)             0         \n",
            "_________________________________________________________________\n",
            "dense_1 (Dense)              (None, 512)               16777728  \n",
            "_________________________________________________________________\n",
            "dense_2 (Dense)              (None, 5)                 2565      \n",
            "=================================================================\n",
            "Total params: 17,021,125\n",
            "Trainable params: 17,021,125\n",
            "Non-trainable params: 0\n",
            "_________________________________________________________________\n"
          ],
          "name": "stdout"
        }
      ]
    },
    {
      "cell_type": "code",
      "metadata": {
        "id": "Knu4o6010cXb",
        "outputId": "acc1eac6-3a39-4aa2-d339-7ddc58e07d83"
      },
      "source": [
        "history = model.fit_generator(\n",
        "train_generator,\n",
        "steps_per_epoch=10,\n",
        "epochs=10,\n",
        "validation_data=validation_generator,\n",
        "validation_steps=10)"
      ],
      "execution_count": null,
      "outputs": [
        {
          "output_type": "stream",
          "text": [
            "W1216 06:35:33.877738  9664 deprecation.py:323] From C:\\Users\\Dr Sher\\Anaconda3\\lib\\site-packages\\tensorflow\\python\\ops\\math_grad.py:1250: add_dispatch_support.<locals>.wrapper (from tensorflow.python.ops.array_ops) is deprecated and will be removed in a future version.\n",
            "Instructions for updating:\n",
            "Use tf.where in 2.0, which has the same broadcast rule as np.where\n",
            "W1216 06:35:34.011228  9664 deprecation_wrapper.py:119] From C:\\Users\\Dr Sher\\Anaconda3\\lib\\site-packages\\keras\\backend\\tensorflow_backend.py:1033: The name tf.assign_add is deprecated. Please use tf.compat.v1.assign_add instead.\n",
            "\n"
          ],
          "name": "stderr"
        },
        {
          "output_type": "stream",
          "text": [
            "Epoch 1/10\n",
            "10/10 [==============================] - 46s 5s/step - loss: 9.3860 - acc: 0.1933 - val_loss: 1.7020 - val_acc: 0.1867\n",
            "Epoch 2/10\n",
            "10/10 [==============================] - 47s 5s/step - loss: 1.5687 - acc: 0.2900 - val_loss: 2.1084 - val_acc: 0.2345\n",
            "Epoch 3/10\n",
            "10/10 [==============================] - 45s 4s/step - loss: 1.6462 - acc: 0.2369 - val_loss: 1.4533 - val_acc: 0.3400\n",
            "Epoch 4/10\n",
            "10/10 [==============================] - 46s 5s/step - loss: 1.4036 - acc: 0.3733 - val_loss: 1.3879 - val_acc: 0.4138\n",
            "Epoch 5/10\n",
            "10/10 [==============================] - 47s 5s/step - loss: 1.4694 - acc: 0.3133 - val_loss: 1.2668 - val_acc: 0.4400\n",
            "Epoch 6/10\n",
            "10/10 [==============================] - 46s 5s/step - loss: 1.4459 - acc: 0.3833 - val_loss: 1.3051 - val_acc: 0.4552\n",
            "Epoch 7/10\n",
            "10/10 [==============================] - 46s 5s/step - loss: 1.3750 - acc: 0.3833 - val_loss: 1.7212 - val_acc: 0.3345\n",
            "Epoch 8/10\n",
            "10/10 [==============================] - 47s 5s/step - loss: 1.2791 - acc: 0.4533 - val_loss: 1.1108 - val_acc: 0.5167\n",
            "Epoch 9/10\n",
            "10/10 [==============================] - 44s 4s/step - loss: 1.1953 - acc: 0.5500 - val_loss: 1.2251 - val_acc: 0.4172\n",
            "Epoch 10/10\n",
            "10/10 [==============================] - 44s 4s/step - loss: 1.1154 - acc: 0.5208 - val_loss: 1.3541 - val_acc: 0.4200\n"
          ],
          "name": "stdout"
        }
      ]
    },
    {
      "cell_type": "markdown",
      "metadata": {
        "id": "kGwPzfFZ0cXc"
      },
      "source": [
        "# Accuracy \n",
        "## Accuaray at last epoch\n",
        "#### Training accurary      = 52%\n",
        "#### Validation accuracy  = 42%\n",
        "## Highest Accuracy\n",
        "#### Training accurary      = 55%\n",
        "#### Validation accuracy  = 51%"
      ]
    },
    {
      "cell_type": "code",
      "metadata": {
        "id": "PeokOPAq0cXe",
        "outputId": "fc5bcdd2-4f55-448c-a1c4-ad4dc9e54b58"
      },
      "source": [
        "import matplotlib.pyplot as plt\n",
        "\n",
        "# Plot training & validation accuracy values\n",
        "plt.plot(history.history['acc'])\n",
        "plt.plot(history.history['val_acc'])\n",
        "plt.title('Model accuracy')\n",
        "plt.ylabel('Accuracy')\n",
        "plt.xlabel('Epoch')\n",
        "plt.legend(['Train', 'Validate'], loc='upper left')\n",
        "plt.show()\n",
        "\n",
        "# Plot training & validation loss values\n",
        "plt.plot(history.history['loss'])\n",
        "plt.plot(history.history['val_loss'])\n",
        "plt.title('Model loss')\n",
        "plt.ylabel('Loss')\n",
        "plt.xlabel('Epoch')\n",
        "plt.legend(['Train', 'Validate'], loc='upper left')\n",
        "plt.show()"
      ],
      "execution_count": null,
      "outputs": [
        {
          "output_type": "display_data",
          "data": {
            "image/png": "[encoded data removed]",
            "text/plain": [
              "<Figure size 432x288 with 1 Axes>"
            ]
          },
          "metadata": {
            "tags": [],
            "needs_background": "light"
          }
        },
        {
          "output_type": "display_data",
          "data": {
            "image/png": "[encoded data removed]",
            "text/plain": [
              "<Figure size 432x288 with 1 Axes>"
            ]
          },
          "metadata": {
            "tags": [],
            "needs_background": "light"
          }
        }
      ]
    },
    {
      "cell_type": "markdown",
      "metadata": {
        "id": "XzeuLTMz0cXg"
      },
      "source": [
        "# Overfitting\n",
        "\n",
        "The model is underfitting because it may still learn\n"
      ]
    },
    {
      "cell_type": "code",
      "metadata": {
        "id": "yLdX4NGD0cXi"
      },
      "source": [
        "train_datagen2 = ImageDataGenerator(\n",
        "rescale=1./255,\n",
        "rotation_range=80,\n",
        "width_shift_range=0.3,\n",
        "height_shift_range=0.3,\n",
        "shear_range=0.3,\n",
        "zoom_range=0.1,\n",
        "horizontal_flip=True,\n",
        "fill_mode='nearest',)\n",
        "\n",
        "val_datagen2= ImageDataGenerator(\n",
        "rescale=1./255,\n",
        "rotation_range=80,\n",
        "width_shift_range=0.3,\n",
        "height_shift_range=0.3,\n",
        "shear_range=0.3,\n",
        "zoom_range=0.1,\n",
        "horizontal_flip=True,\n",
        "fill_mode='nearest',)\n"
      ],
      "execution_count": null,
      "outputs": []
    },
    {
      "cell_type": "code",
      "metadata": {
        "id": "govStduT0cXj",
        "outputId": "b638eeb7-613a-40d8-9564-017a00d24aba"
      },
      "source": [
        "\n",
        "train_generator2 = train_datagen2.flow_from_directory(train, \n",
        "                                                    target_size=(300, 300),\n",
        "                                                    batch_size=30,\n",
        "                                                    class_mode='categorical')\n",
        "\n",
        "validation_generator2 = val_datagen2.flow_from_directory(\n",
        "val,\n",
        "target_size=(300, 300),\n",
        "batch_size=30,    \n",
        "class_mode='categorical')\n"
      ],
      "execution_count": null,
      "outputs": [
        {
          "output_type": "stream",
          "text": [
            "Found 2500 images belonging to 5 classes.\n",
            "Found 500 images belonging to 5 classes.\n"
          ],
          "name": "stdout"
        }
      ]
    },
    {
      "cell_type": "code",
      "metadata": {
        "id": "QTuZ8d950cXk",
        "outputId": "f7a0b672-df2b-402a-e2e8-5a66c9311724"
      },
      "source": [
        "from keras import layers\n",
        "from keras import models\n",
        "\n",
        "model = models.Sequential()\n",
        "model.add(layers.Conv2D(32, (3, 3), activation='relu',\n",
        "input_shape=(300, 300, 3)))\n",
        "model.add(layers.MaxPooling2D((2, 2)))\n",
        "model.add(layers.Conv2D(64, (3, 3), activation='relu'))\n",
        "model.add(layers.MaxPooling2D((2, 2)))\n",
        "model.add(layers.Conv2D(128, (3, 3), activation='relu'))\n",
        "model.add(layers.MaxPooling2D((2, 2)))\n",
        "model.add(layers.Conv2D(128, (3, 3), activation='relu'))\n",
        "model.add(layers.MaxPooling2D((2, 2)))\n",
        "model.add(layers.Flatten())\n",
        "model.add(layers.Dense(512, activation='relu'))\n",
        "model.add(layers.Dropout(0.5))\n",
        "model.add(layers.Dense(num_classes, activation='softmax'))\n"
      ],
      "execution_count": null,
      "outputs": [
        {
          "output_type": "stream",
          "text": [
            "WARNING: Logging before flag parsing goes to stderr.\n",
            "W1216 07:45:47.864834  9064 deprecation_wrapper.py:119] From C:\\Users\\Dr Sher\\Anaconda3\\lib\\site-packages\\keras\\backend\\tensorflow_backend.py:66: The name tf.get_default_graph is deprecated. Please use tf.compat.v1.get_default_graph instead.\n",
            "\n",
            "W1216 07:45:47.892827  9064 deprecation_wrapper.py:119] From C:\\Users\\Dr Sher\\Anaconda3\\lib\\site-packages\\keras\\backend\\tensorflow_backend.py:541: The name tf.placeholder is deprecated. Please use tf.compat.v1.placeholder instead.\n",
            "\n",
            "W1216 07:45:47.896822  9064 deprecation_wrapper.py:119] From C:\\Users\\Dr Sher\\Anaconda3\\lib\\site-packages\\keras\\backend\\tensorflow_backend.py:4432: The name tf.random_uniform is deprecated. Please use tf.random.uniform instead.\n",
            "\n",
            "W1216 07:45:47.912822  9064 deprecation_wrapper.py:119] From C:\\Users\\Dr Sher\\Anaconda3\\lib\\site-packages\\keras\\backend\\tensorflow_backend.py:4267: The name tf.nn.max_pool is deprecated. Please use tf.nn.max_pool2d instead.\n",
            "\n",
            "W1216 07:45:47.994697  9064 deprecation_wrapper.py:119] From C:\\Users\\Dr Sher\\Anaconda3\\lib\\site-packages\\keras\\backend\\tensorflow_backend.py:148: The name tf.placeholder_with_default is deprecated. Please use tf.compat.v1.placeholder_with_default instead.\n",
            "\n",
            "W1216 07:45:48.002697  9064 deprecation.py:506] From C:\\Users\\Dr Sher\\Anaconda3\\lib\\site-packages\\keras\\backend\\tensorflow_backend.py:3733: calling dropout (from tensorflow.python.ops.nn_ops) with keep_prob is deprecated and will be removed in a future version.\n",
            "Instructions for updating:\n",
            "Please use `rate` instead of `keep_prob`. Rate should be set to `rate = 1 - keep_prob`.\n"
          ],
          "name": "stderr"
        }
      ]
    },
    {
      "cell_type": "code",
      "metadata": {
        "id": "b1qQT6Df0cXl",
        "outputId": "0d4323e5-d203-47ee-97a5-a1d37503acae"
      },
      "source": [
        "model.compile(optimizer='rmsprop',\n",
        "loss='categorical_crossentropy',\n",
        "metrics=['accuracy'])\n",
        "\n",
        "model.summary()"
      ],
      "execution_count": null,
      "outputs": [
        {
          "output_type": "stream",
          "text": [
            "W1216 07:45:54.277671  9064 deprecation_wrapper.py:119] From C:\\Users\\Dr Sher\\Anaconda3\\lib\\site-packages\\keras\\optimizers.py:793: The name tf.train.Optimizer is deprecated. Please use tf.compat.v1.train.Optimizer instead.\n",
            "\n",
            "W1216 07:45:54.309663  9064 deprecation_wrapper.py:119] From C:\\Users\\Dr Sher\\Anaconda3\\lib\\site-packages\\keras\\backend\\tensorflow_backend.py:3576: The name tf.log is deprecated. Please use tf.math.log instead.\n",
            "\n"
          ],
          "name": "stderr"
        },
        {
          "output_type": "stream",
          "text": [
            "Model: \"sequential_1\"\n",
            "_________________________________________________________________\n",
            "Layer (type)                 Output Shape              Param #   \n",
            "=================================================================\n",
            "conv2d_1 (Conv2D)            (None, 298, 298, 32)      896       \n",
            "_________________________________________________________________\n",
            "max_pooling2d_1 (MaxPooling2 (None, 149, 149, 32)      0         \n",
            "_________________________________________________________________\n",
            "conv2d_2 (Conv2D)            (None, 147, 147, 64)      18496     \n",
            "_________________________________________________________________\n",
            "max_pooling2d_2 (MaxPooling2 (None, 73, 73, 64)        0         \n",
            "_________________________________________________________________\n",
            "conv2d_3 (Conv2D)            (None, 71, 71, 128)       73856     \n",
            "_________________________________________________________________\n",
            "max_pooling2d_3 (MaxPooling2 (None, 35, 35, 128)       0         \n",
            "_________________________________________________________________\n",
            "conv2d_4 (Conv2D)            (None, 33, 33, 128)       147584    \n",
            "_________________________________________________________________\n",
            "max_pooling2d_4 (MaxPooling2 (None, 16, 16, 128)       0         \n",
            "_________________________________________________________________\n",
            "flatten_1 (Flatten)          (None, 32768)             0         \n",
            "_________________________________________________________________\n",
            "dense_1 (Dense)              (None, 512)               16777728  \n",
            "_________________________________________________________________\n",
            "dropout_1 (Dropout)          (None, 512)               0         \n",
            "_________________________________________________________________\n",
            "dense_2 (Dense)              (None, 5)                 2565      \n",
            "=================================================================\n",
            "Total params: 17,021,125\n",
            "Trainable params: 17,021,125\n",
            "Non-trainable params: 0\n",
            "_________________________________________________________________\n"
          ],
          "name": "stdout"
        }
      ]
    },
    {
      "cell_type": "code",
      "metadata": {
        "id": "K80kxDdF0cXm",
        "outputId": "b8790bd6-3735-4bfd-d5c3-03f63f1451fa"
      },
      "source": [
        "history = model.fit_generator(\n",
        "train_generator2,\n",
        "steps_per_epoch=10,\n",
        "epochs=10,\n",
        "validation_data=validation_generator2,\n",
        "validation_steps=10)"
      ],
      "execution_count": null,
      "outputs": [
        {
          "output_type": "stream",
          "text": [
            "W1216 07:45:56.144819  9064 deprecation.py:323] From C:\\Users\\Dr Sher\\Anaconda3\\lib\\site-packages\\tensorflow\\python\\ops\\math_grad.py:1250: add_dispatch_support.<locals>.wrapper (from tensorflow.python.ops.array_ops) is deprecated and will be removed in a future version.\n",
            "Instructions for updating:\n",
            "Use tf.where in 2.0, which has the same broadcast rule as np.where\n"
          ],
          "name": "stderr"
        },
        {
          "output_type": "stream",
          "text": [
            "Epoch 1/10\n",
            "10/10 [==============================] - 49s 5s/step - loss: 11.7626 - acc: 0.1800 - val_loss: 12.7333 - val_acc: 0.2100\n",
            "Epoch 2/10\n",
            "10/10 [==============================] - 46s 5s/step - loss: 12.8407 - acc: 0.2033 - val_loss: 13.3947 - val_acc: 0.1690\n",
            "Epoch 3/10\n",
            "10/10 [==============================] - 51s 5s/step - loss: 12.8945 - acc: 0.2000 - val_loss: 12.9482 - val_acc: 0.1967\n",
            "Epoch 4/10\n",
            "10/10 [==============================] - 45s 5s/step - loss: 13.2085 - acc: 0.1805 - val_loss: 12.3943 - val_acc: 0.2310\n",
            "Epoch 5/10\n",
            "10/10 [==============================] - 48s 5s/step - loss: 13.0019 - acc: 0.1933 - val_loss: 12.9482 - val_acc: 0.1967\n",
            "Epoch 6/10\n",
            "10/10 [==============================] - 46s 5s/step - loss: 12.6796 - acc: 0.2133 - val_loss: 13.0612 - val_acc: 0.1897\n",
            "Epoch 7/10\n",
            "10/10 [==============================] - 48s 5s/step - loss: 12.6796 - acc: 0.2133 - val_loss: 12.7833 - val_acc: 0.2069\n",
            "Epoch 8/10\n",
            "10/10 [==============================] - 49s 5s/step - loss: 12.6796 - acc: 0.2133 - val_loss: 13.1631 - val_acc: 0.1833\n",
            "Epoch 9/10\n",
            "10/10 [==============================] - 49s 5s/step - loss: 13.0898 - acc: 0.1879 - val_loss: 12.8389 - val_acc: 0.2034\n",
            "Epoch 10/10\n",
            "10/10 [==============================] - 51s 5s/step - loss: 12.7333 - acc: 0.2100 - val_loss: 12.5184 - val_acc: 0.2233\n"
          ],
          "name": "stdout"
        }
      ]
    },
    {
      "cell_type": "markdown",
      "metadata": {
        "id": "yUvfUxVC0cXn"
      },
      "source": [
        "# Accuracy after augmentation\n",
        "## Accuaray at last epoch\n",
        "#### Training accurary      = 40%\n",
        "#### Validation accuracy  = 42%\n",
        "## Highest Accuracy\n",
        "#### Training accurary      = 48%\n",
        "#### Validation accuracy  = 45%\n"
      ]
    },
    {
      "cell_type": "code",
      "metadata": {
        "id": "xMSMoN8Q0cXn",
        "outputId": "8e24f17f-42b6-42e4-a82c-61efde036b0e"
      },
      "source": [
        "import matplotlib.pyplot as plt\n",
        "\n",
        "# Plot training & validation accuracy values\n",
        "plt.plot(history.history['acc'])\n",
        "plt.plot(history.history['val_acc'])\n",
        "plt.title('Model accuracy')\n",
        "plt.ylabel('Accuracy')\n",
        "plt.xlabel('Epoch')\n",
        "plt.legend(['Train', 'Validate'], loc='upper left')\n",
        "plt.show()\n",
        "\n",
        "# Plot training & validation loss values\n",
        "plt.plot(history.history['loss'])\n",
        "plt.plot(history.history['val_loss'])\n",
        "plt.title('Model loss')\n",
        "plt.ylabel('Loss')\n",
        "plt.xlabel('Epoch')\n",
        "plt.legend(['Train', 'Validate'], loc='upper left')\n",
        "plt.show()"
      ],
      "execution_count": null,
      "outputs": [
        {
          "output_type": "display_data",
          "data": {
            "image/png": "[encoded data removed]",
            "text/plain": [
              "<Figure size 432x288 with 1 Axes>"
            ]
          },
          "metadata": {
            "tags": [],
            "needs_background": "light"
          }
        },
        {
          "output_type": "display_data",
          "data": {
            "image/png": "[encoded data removed]",
            "text/plain": [
              "<Figure size 432x288 with 1 Axes>"
            ]
          },
          "metadata": {
            "tags": [],
            "needs_background": "light"
          }
        }
      ]
    },
    {
      "cell_type": "markdown",
      "metadata": {
        "id": "6bv-zHhv0cXo"
      },
      "source": [
        "# Overfitting \n",
        "No model is because it is still trying to learning "
      ]
    },
    {
      "cell_type": "code",
      "metadata": {
        "id": "Iima3PU418oL"
      },
      "source": [
        ""
      ],
      "execution_count": null,
      "outputs": []
    }
  ]
}